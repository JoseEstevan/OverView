{
 "cells": [
  {
   "cell_type": "markdown",
   "metadata": {},
   "source": [
    "# Data Hackers 2019 Survey\n",
    "![](https://media-exp1.licdn.com/dms/image/C4D1BAQF0uHqQhf92zA/company-background_10000/0?e=2159024400&v=beta&t=wfEZ-Q7WmoRomnUW72nkTMUtZmd0WwMc3xfrKGAOJWA)"
   ]
  },
  {
   "cell_type": "markdown",
   "metadata": {},
   "source": [
    "## OverView\n",
    "Data Hackers é uma comunidade de Ciência de Dados, e possui conteúdos excelentes sobre ciência de dados disponibilizados em formato blog, newsletter, podcast e Slack.\n",
    "Criados pela comunidade, para a própria comunidade brasileira de ciência de dados, machine learning, big data e inteligência artificial. \n",
    "Nesse OverView, exploraremos os dados da Pesquisa Data Hackers sobre o mercado de Data Science no Brasil. Os dados foram coletados em uma pesquisa online durante o mês de novembro de 2019.\n",
    "\n",
    "A pesquisa contou com:\n",
    "* 1765 respostas\n",
    "* 35 questões (divididas em 170 colunas)\n",
    "\n",
    "A seguir vamos explorar um pouco esses dados, e descobrir o que eles nos contam sobre o mercado de dados no Brasil.\n"
   ]
  },
  {
   "cell_type": "markdown",
   "metadata": {},
   "source": [
    "### Formação Acadêmica\n",
    "\n",
    "Quase todos os respondentes possuem ou estão cursando uma graduação. A maior parte também possuí uma pós-graduação ou mestrado/doutorado:\n",
    "\n",
    "![](https://i.ibb.co/YhGpWy6/Forma-o.png)"
   ]
  },
  {
   "cell_type": "markdown",
   "metadata": {},
   "source": [
    "### Linguagens de Programação\n",
    "\n",
    "Python é a queridinha de muitos profissionais, não é surpresa nenhuma ser de longe a linguagem mais usada\n",
    "\n",
    "![](https://i.ibb.co/K9T7qKs/Linguagem.png)"
   ]
  },
  {
   "cell_type": "markdown",
   "metadata": {},
   "source": [
    "### Onde se localizam?\n",
    "\n",
    "Como em outras áreas de tecnologia do país, a maioria dos profissionais se localizam em São Paulo:\n",
    "\n",
    "![](https://i.ibb.co/vL1kwNf/Regi-es.png)\n",
    "\n",
    "![](https://i.ibb.co/rwnwcm6/Estado-XSal-rio.png)"
   ]
  },
  {
   "cell_type": "markdown",
   "metadata": {},
   "source": [
    "### Situação de Trabalho\n",
    "\n",
    "A maioria dos profissionais no Brasil atuam sob o regime CLT, surpreende o número de estágiarios que é bem proximo do número de empreendedores:\n",
    "\n",
    "![](https://i.ibb.co/RDgvTtj/Trabalho.png)\n",
    "\n",
    "![](https://i.ibb.co/r5ckf8P/Situa-o-XSal-rio.png)\n"
   ]
  },
  {
   "cell_type": "markdown",
   "metadata": {},
   "source": [
    "### Experiência\n",
    "\n",
    "Como era de se esperar, os profissionais com os maiores salários são aqueles com mais experiência:\n",
    "\n",
    "![](https://i.ibb.co/429zy8b/Experi-ncia-XSal-rio.png)"
   ]
  },
  {
   "cell_type": "markdown",
   "metadata": {},
   "source": [
    "### Conclusão\n",
    "\n",
    "Entre outras coisas a pesquisa nos mostra os pontos de concentração daqueles que trabalham com dados - São Paulo (47%) e Minas Gerais (22%), a formação dos participantes - 59% dos pesquisados fizeram Computação, Eng de Software ou Sistemas da Informação. Em adição podemos encontrar informações sobre salário que podem mostrar a realidade da profissão - A média do Brasil é de 5436 RS podendo aumentar 60% caso tenha mais de 10 anos de experiência...em São Paulo fica em 6379 RS."
   ]
  },
  {
   "cell_type": "markdown",
   "metadata": {},
   "source": [
    "![](https://image.slidesharecdn.com/hotmart-prevendoofuturocomtimeseriesforecasting-180803125855/95/tdc2018sp-trilha-machine-learning-prevendo-o-futuro-com-time-series-forecasting-5-638.jpg?cb=1533301281)"
   ]
  }
 ],
 "metadata": {
  "kernelspec": {
   "display_name": "Python 3",
   "language": "python",
   "name": "python3"
  },
  "language_info": {
   "codemirror_mode": {
    "name": "ipython",
    "version": 3
   },
   "file_extension": ".py",
   "mimetype": "text/x-python",
   "name": "python",
   "nbconvert_exporter": "python",
   "pygments_lexer": "ipython3",
   "version": "3.7.1"
  }
 },
 "nbformat": 4,
 "nbformat_minor": 4
}
