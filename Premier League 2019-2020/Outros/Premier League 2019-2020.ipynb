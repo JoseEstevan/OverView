{
 "cells": [
  {
   "cell_type": "markdown",
   "metadata": {},
   "source": [
    "# Premier League 2019-2020\n",
    "![cover](https://turistafc.com.br/wp-content/uploads/2019/06/Premier-League-996x498.png)"
   ]
  },
  {
   "cell_type": "markdown",
   "metadata": {},
   "source": [
    "# OverView\n",
    "Esta temporada da Premier League foi cheia de emoção, suspense e drama até o ultimo minuto. Liverpool campeão com 99 pontos quebrando diversos recordes,\n",
    "Manchester City terminando 18 pontos atrás do campeão, mesmo depois de apresentar uma performance bem acima da média. Manchester United se tornando um time extremamente perigoso, muito por conta da chegada de Bruno Fernandes ao time. Chelsea que teve seus altos e baixos durante a temporada, mas conseguiu a classificação para a próxima Champions League, diferente do Leicester que após a volta do campeonato teve um desempenho muito abaixo e não conseguiu terminar no top 4.\n",
    "\n",
    "![cover](https://a.espncdn.com/photo/2019/0809/r581400_1280x720_16-9.png)"
   ]
  },
  {
   "cell_type": "markdown",
   "metadata": {},
   "source": [
    "## Equipes\n",
    "O Liverpool dispensa comentários, o time teve 3 derrotas e 3 empates em 38 jogos, além de ser o time que menos sofreu gols\n",
    "e o segundo que mais marcou gols. No lado inverso da tabela, o Norwich amarga a última posição com um desempenho ruim mas que era esperado, porém, um time que surpreendeu negativamente foi o West Ham que no início da temporada muitos colocavam como um time para brigar na parte de cima, no final acabou brigando na parte oposta. Outros times também decepcionaram, como o Everton, que com a chegada de Carlo Ancelotti não conseguiu subir de desempenho e ficou bem abaixo das expectativas. Para falar de times que fizeram uma boa temporada, é impossivel não mencionar o Sheffield United que fez uma temporada de time grande e chegou a brigar pelo top 4 em um certo momento do campeonato, com um estilo de jogo bem coeso e agradável, os torcedores que no início temiam que o time voltasse para segunda divisão no final não poderiam estar mais satisfeitos.\n",
    "\n",
    "![Tabela](https://miro.medium.com/max/1400/1*TXFCJ_WoGN-uVmPgHv-ohA.jpeg) \n",
    "\n",
    "A briga pelas últimas vagas na Champions League foi decidida na última rodada. O Chelsea venceu o Wolverhampton e se juntou a Liverpool e Manchester City. No confronto direto pela última vaga, o Manchester United derrotou o Leicester City por 2 a 0 e disputará a principal competição europeia na próxima temporada. \n",
    "Em um grande primeiro turno e péssimo returno, os Foxes vão se contentar com vaga na Europa League. O Tottenham só empatou com o Crystal Palace, mas também garantiu vaga na UEL.\n"
   ]
  },
  {
   "cell_type": "markdown",
   "metadata": {},
   "source": [
    "### Melhor e Pior Ataque\n",
    "\n",
    "![ataque](https://i.ibb.co/3dnrkK1/ataque.png)"
   ]
  },
  {
   "cell_type": "markdown",
   "metadata": {},
   "source": [
    "### Melhor e Pior Defesa\n",
    "![defesa](https://i.ibb.co/XXYTDdm/defesa.png)"
   ]
  },
  {
   "cell_type": "markdown",
   "metadata": {},
   "source": [
    "## Jogadores\n",
    "\n",
    "Nesta temporada tivemos muitos jogadores se destacando, desde velhos conhecidos como Kevin De Bruyne, Jamie Vardy, Sadio Mané, também tivemos vários jogadores novos de destaque, o Chelsea foi o principal time nesse quesito por conta da punição e a impossibilidade de contratar no início da temporada, surgiram nomes como Mason Mount, Tammy Abraham, Reece James, Fikayo Tomori, também não posso deixar de fora da lista Mason Greewood, Gabriel Martinelli, Harvey Elliott, Bukayo Saka, Brandon Pierrick entre outros. \n",
    "\n",
    "![cover](https://miro.medium.com/max/700/1*oytFPwdnkIObgB1N7X6NFg.jpeg)"
   ]
  },
  {
   "cell_type": "markdown",
   "metadata": {},
   "source": [
    "### Artilheiros\n",
    "\n",
    "Jamie Vardy fez uma ótima temporada e recebeu a chuteira de ouro após marcar 23 gols, logo em seguida aparece Aubameyang \n",
    "com 22 gols, mesmo número de gols que ele marcou na temporada passada, mostrando uma consistência incrível. Danny Ings aparece logo em seguida com o mesmo número de gols, Sterling marcou muitos gols nos últimos jogos e chegou a marca de 20 gols, e pra fechar o top 5 temos Mohamed Salah em mais uma grande temporada com 19 gols.\n",
    "\n",
    "![artilheiros](https://i.ibb.co/M7GgLTT/Artilheiros.png)"
   ]
  },
  {
   "cell_type": "markdown",
   "metadata": {},
   "source": [
    "## Assitentes\n",
    "\n",
    "Kevin De Bruyne é hoje na minha opinião o melhor jogador do mundo, se as premiações não tivessem sido canceladas e o Manchester City ganhasse a Champions League, ele com certeza seria o grande favorito, em seguida temos a dupla genial do Liverpool, Alexander Arnold e Andrew Robertson que são duas peças imprescindíveis no esquema de Jürgen Klopp, e um dos grandes motivos do porque eles foram de longe o melhor time nessa temporada.\n",
    "\n",
    "![assistentes](https://i.ibb.co/fqr59HL/Assist-ncias.png)"
   ]
  },
  {
   "cell_type": "markdown",
   "metadata": {},
   "source": [
    "## Melhores Jogadores\n",
    "\n",
    "Para finalizar, vou listar os principais jogadores desta temporada na minha opinião. \n",
    "\n",
    "1. Kevin De Bruyne\n",
    "\n",
    "2. Jordan Henderson\n",
    "\n",
    "3. Sadio Mané\n",
    "\n",
    "4. Jamie Vardy\n",
    "\n",
    "5. Adama Traoré\n",
    "\n",
    "6. Mohamed Salah\n",
    "\n",
    "7. Pierre-Emerick Aubameyang\n",
    "\n",
    "8. Trent Alexander-Arnold\n",
    "\n",
    "9. Virgil van Dijk\n",
    "\n",
    "10. Bruno Fernandes\n",
    "\n",
    "![cover](https://www.mancity.com/meta/media/aful15fo/arsenal-v-city-kdb-cele.jpg?width=1536)"
   ]
  },
  {
   "cell_type": "code",
   "execution_count": null,
   "metadata": {},
   "outputs": [],
   "source": []
  }
 ],
 "metadata": {
  "kernelspec": {
   "display_name": "Python 3",
   "language": "python",
   "name": "python3"
  },
  "language_info": {
   "codemirror_mode": {
    "name": "ipython",
    "version": 3
   },
   "file_extension": ".py",
   "mimetype": "text/x-python",
   "name": "python",
   "nbconvert_exporter": "python",
   "pygments_lexer": "ipython3",
   "version": "3.7.1"
  }
 },
 "nbformat": 4,
 "nbformat_minor": 4
}
